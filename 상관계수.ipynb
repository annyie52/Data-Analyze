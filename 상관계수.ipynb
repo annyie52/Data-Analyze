{
  "nbformat": 4,
  "nbformat_minor": 0,
  "metadata": {
    "colab": {
      "name": "상관계수",
      "provenance": []
    },
    "kernelspec": {
      "name": "python3",
      "display_name": "Python 3"
    },
    "language_info": {
      "name": "python"
    }
  },
  "cells": [
    {
      "cell_type": "markdown",
      "source": [
        "# 상관계수 (Correlation Coefficient)\n"
      ],
      "metadata": {
        "id": "niRHDgVQpKK4"
      }
    },
    {
      "cell_type": "markdown",
      "source": [
        "## 1. 분산\n",
        "- 1개의 이산 정도를 나타낸다.\n",
        "- 편차 제곱의 평균"
      ],
      "metadata": {
        "id": "dR8-6RRvpeiT"
      }
    },
    {
      "cell_type": "code",
      "source": [
        "import numpy as np\n",
        "\n",
        "data1 = np.array([3, 4, 5, 6, 7])\n",
        "data2 = np.array([1, 3, 5, 7, 9])\n",
        "\n",
        "np.mean(data1), np.mean(data2)"
      ],
      "metadata": {
        "colab": {
          "base_uri": "https://localhost:8080/"
        },
        "id": "9Nv1khprpipO",
        "outputId": "b41560a5-3a7f-429f-8ec4-4b1c2e497e68"
      },
      "execution_count": 1,
      "outputs": [
        {
          "output_type": "execute_result",
          "data": {
            "text/plain": [
              "(5.0, 5.0)"
            ]
          },
          "metadata": {},
          "execution_count": 1
        }
      ]
    },
    {
      "cell_type": "code",
      "source": [
        "np.var(data1), np.var(data2)"
      ],
      "metadata": {
        "colab": {
          "base_uri": "https://localhost:8080/"
        },
        "id": "eDp6bP1wpmFh",
        "outputId": "dc364e01-7a11-4745-df41-b5c9b80faffd"
      },
      "execution_count": 2,
      "outputs": [
        {
          "output_type": "execute_result",
          "data": {
            "text/plain": [
              "(2.0, 8.0)"
            ]
          },
          "metadata": {},
          "execution_count": 2
        }
      ]
    },
    {
      "cell_type": "code",
      "source": [
        "np.std(data1), np.std(data2)"
      ],
      "metadata": {
        "colab": {
          "base_uri": "https://localhost:8080/"
        },
        "id": "5rUMx8Gupnv8",
        "outputId": "b1361079-f3bd-4992-d383-9017d2e1f43a"
      },
      "execution_count": 3,
      "outputs": [
        {
          "output_type": "execute_result",
          "data": {
            "text/plain": [
              "(1.4142135623730951, 2.8284271247461903)"
            ]
          },
          "metadata": {},
          "execution_count": 3
        }
      ]
    },
    {
      "cell_type": "markdown",
      "source": [
        "## 2. 공분산 (covariance)\n",
        "\n",
        "- 두 집단 간의 상관정도를 나타낸다.\n",
        "- 평균 편차곱\n",
        "- **방향성**은 보여 줄 수 있으나, 강도를 나타내는데 한계가 있다.\n",
        "  - 표본데이터의 크기에 따라서 값의 차이가 큰 단점이 있다.\n",
        "\n",
        "$$ \\text{cov} = \\frac{\\sum_{i=1}^{n}{(x_i-\\bar{x})(y_i-\\bar{y})}}{n-1}, (\\bar{x}:x의 평균, \\bar{y}:y의 평균) $$"
      ],
      "metadata": {
        "id": "-gySyoq8po0s"
      }
    },
    {
      "cell_type": "code",
      "source": [
        "def covariance(data1, data2):\n",
        "  x_ = np.mean(data1)\n",
        "  y_ = np.mean(data2)\n",
        "\n",
        "  cov = (data1-x_)*(data2-y_)\n",
        "  cov = np.sum(cov)\n",
        "\n",
        "  return cov/(len(data1)-1)"
      ],
      "metadata": {
        "id": "4M8_RDLVpvkJ"
      },
      "execution_count": 4,
      "outputs": []
    },
    {
      "cell_type": "code",
      "source": [
        "data1=np.array([80, 85, 100, 90, 95])\n",
        "data2=np.array([70, 80, 100, 95, 95])\n",
        "\n",
        "covariance(data1, data2)"
      ],
      "metadata": {
        "colab": {
          "base_uri": "https://localhost:8080/"
        },
        "id": "_6WO98kMpyY1",
        "outputId": "eeae23a9-ffbf-4997-c70c-da3080bedbbf"
      },
      "execution_count": 5,
      "outputs": [
        {
          "output_type": "execute_result",
          "data": {
            "text/plain": [
              "93.75"
            ]
          },
          "metadata": {},
          "execution_count": 5
        }
      ]
    },
    {
      "cell_type": "code",
      "source": [
        "data3 = np.array([80, 85, 100, 90, 95])\n",
        "data4= np.array([100, 90, 70, 90, 85])\n",
        "\n",
        "covariance(data3, data4)"
      ],
      "metadata": {
        "colab": {
          "base_uri": "https://localhost:8080/"
        },
        "id": "UXD9nSx1p0TF",
        "outputId": "4873b5f7-fb57-4826-b5f9-bd3cef75a7d3"
      },
      "execution_count": 6,
      "outputs": [
        {
          "output_type": "execute_result",
          "data": {
            "text/plain": [
              "-81.25"
            ]
          },
          "metadata": {},
          "execution_count": 6
        }
      ]
    },
    {
      "cell_type": "code",
      "source": [
        "data5=np.array([800, 850, 1000, 900, 950])\n",
        "data6=np.array([1000, 900, 700, 900, 800])\n",
        "\n",
        "covariance(data5, data6)"
      ],
      "metadata": {
        "colab": {
          "base_uri": "https://localhost:8080/"
        },
        "id": "DPYEqleQp1wp",
        "outputId": "489f6e3e-56db-4043-b0de-e6ce8a9b4f12"
      },
      "execution_count": 7,
      "outputs": [
        {
          "output_type": "execute_result",
          "data": {
            "text/plain": [
              "-8750.0"
            ]
          },
          "metadata": {},
          "execution_count": 7
        }
      ]
    },
    {
      "cell_type": "code",
      "source": [
        "print(np.cov(data1, data2)[0, 1])\n",
        "print(np.cov(data3, data4)[0, 1])\n",
        "print(np.cov(data5, data6)[0, 1])"
      ],
      "metadata": {
        "colab": {
          "base_uri": "https://localhost:8080/"
        },
        "id": "YheqcG3wp7Ne",
        "outputId": "286dc072-02be-4b0f-8c68-8418a93db637"
      },
      "execution_count": 8,
      "outputs": [
        {
          "output_type": "stream",
          "name": "stdout",
          "text": [
            "93.75\n",
            "-81.25\n",
            "-8750.0\n"
          ]
        }
      ]
    },
    {
      "cell_type": "markdown",
      "source": [
        "## 3.상관계수\n",
        "\n",
        "- 공분산의 한계를 극복하기 위해서 만들어짐\n",
        "  - 공분산은 데이터의 방향성만이 판단이 가능 (증가, 감소)\n",
        "  - `-1~1`까지의 실수를 가지며, 0과 가까울수록 상관도가 적다는 것을 의미\n",
        "  - x의 분산과 y의 분산을 곱한 결과의 제곱근을 나눠 주면 된다.\n",
        "\n",
        "\n",
        "$$\n",
        " \\text{correlation-coefficient} = \\frac{공분산}{\\sqrt{{x분산} \\cdot {y분산}}}\n",
        "$$"
      ],
      "metadata": {
        "id": "XjzmkrqZp9Jf"
      }
    },
    {
      "cell_type": "code",
      "source": [
        "# 상관계수 구현하기\n",
        "\n",
        "def corrcoef(data1, data2):\n",
        "  x_ = np.mean(data1)\n",
        "  y_ = np.mean(data2)\n",
        "\n",
        "  x_y_var = np.sum((data1-x_)**2)*np.sum((data2-y_)**2)\n",
        "  cov=np.sum((data1-x_)*(data2-y_))\n",
        "\n",
        "  return cov/np.sqrt(x_y_var)"
      ],
      "metadata": {
        "id": "QJSke_xIqDLP"
      },
      "execution_count": 9,
      "outputs": []
    },
    {
      "cell_type": "code",
      "source": [
        "data1 = np.array([80, 85, 100, 90, 95])\n",
        "data2 = np.array([70, 80, 100, 95, 95])\n",
        "\n",
        "corrcoef(data1, data2)"
      ],
      "metadata": {
        "colab": {
          "base_uri": "https://localhost:8080/"
        },
        "id": "GjKroU0BqHbU",
        "outputId": "918110cd-fb70-42c2-fb35-ae99abf127d1"
      },
      "execution_count": 10,
      "outputs": [
        {
          "output_type": "execute_result",
          "data": {
            "text/plain": [
              "0.944911182523068"
            ]
          },
          "metadata": {},
          "execution_count": 10
        }
      ]
    },
    {
      "cell_type": "markdown",
      "source": [
        "## 4. 결정계수 (R-squared)\n",
        "\n",
        "- x로부터 y를 예측할 수 있는 정도\n",
        "- 머신러닝 회귀모델의 성능\n",
        "- 수치가 클수록 회귀분석을 통해 예측할 수 있는 수치의 정도가 정확\n",
        "- 상관계수의 제곱 (상관계수를 양수화)"
      ],
      "metadata": {
        "id": "C9mDTfGcqIut"
      }
    },
    {
      "cell_type": "code",
      "source": [
        "data1 = np.array([80, 85, 100, 90, 95])\n",
        "data2 = np.array([70, 80, 100, 95, 95])\n",
        "data4 = np.array([100, 90, 70, 90, 80])"
      ],
      "metadata": {
        "id": "QUfBjNP3qOth"
      },
      "execution_count": 11,
      "outputs": []
    },
    {
      "cell_type": "code",
      "source": [
        "print(data1, data2, data4, sep=\"\\n\")\n",
        "\n",
        "print(\"\\ncorrcoef\")\n",
        "print(\"data1, data2:\", np.corrcoef(data1, data2)[0, 1])\n",
        "print(\"data1, data4:\", np.corrcoef(data1, data4)[0, 1])\n",
        "\n",
        "print(\"\\nR-squared\")\n",
        "print(\"data1, data2:\", np.corrcoef(data1, data2)[0, 1]**2)\n",
        "print(\"data1, data4:\", np.corrcoef(data1, data4)[0, 1]**2)"
      ],
      "metadata": {
        "colab": {
          "base_uri": "https://localhost:8080/"
        },
        "id": "ACeMxKYZqQxL",
        "outputId": "bdb2db55-d94b-4d81-c0d5-17b7c4637656"
      },
      "execution_count": 12,
      "outputs": [
        {
          "output_type": "stream",
          "name": "stdout",
          "text": [
            "[ 80  85 100  90  95]\n",
            "[ 70  80 100  95  95]\n",
            "[100  90  70  90  80]\n",
            "\n",
            "corrcoef\n",
            "data1, data2: 0.9449111825230682\n",
            "data1, data4: -0.970725343394151\n",
            "\n",
            "R-squared\n",
            "data1, data2: 0.892857142857143\n",
            "data1, data4: 0.9423076923076923\n"
          ]
        }
      ]
    },
    {
      "cell_type": "markdown",
      "source": [
        "# 프리미엄리그 데이터 상관계수 분석"
      ],
      "metadata": {
        "id": "ty22XiEcqSie"
      }
    },
    {
      "cell_type": "code",
      "source": [
        "import pandas as pd"
      ],
      "metadata": {
        "id": "BHvRgF4tqVWX"
      },
      "execution_count": 13,
      "outputs": []
    },
    {
      "cell_type": "code",
      "source": [
        "p_df = pd.read_csv(\"premierleague.csv\")\n",
        "p_df.head()"
      ],
      "metadata": {
        "colab": {
          "base_uri": "https://localhost:8080/",
          "height": 206
        },
        "id": "_13de2TLqaUg",
        "outputId": "32e12875-1c15-4dad-bdb5-8bfa38cd4b17"
      },
      "execution_count": 14,
      "outputs": [
        {
          "output_type": "execute_result",
          "data": {
            "text/plain": [
              "                name   gf  ga  points\n",
              "0    Manchester City  106  27     100\n",
              "1  Manchester United   68  28      81\n",
              "2  Tottenham Hotspur   74  36      77\n",
              "3          Liverpool   84  38      75\n",
              "4            Chelsea   62  38      70"
            ],
            "text/html": [
              "\n",
              "  <div id=\"df-6a3d4e73-8597-4da5-9610-dfa186bf6544\">\n",
              "    <div class=\"colab-df-container\">\n",
              "      <div>\n",
              "<style scoped>\n",
              "    .dataframe tbody tr th:only-of-type {\n",
              "        vertical-align: middle;\n",
              "    }\n",
              "\n",
              "    .dataframe tbody tr th {\n",
              "        vertical-align: top;\n",
              "    }\n",
              "\n",
              "    .dataframe thead th {\n",
              "        text-align: right;\n",
              "    }\n",
              "</style>\n",
              "<table border=\"1\" class=\"dataframe\">\n",
              "  <thead>\n",
              "    <tr style=\"text-align: right;\">\n",
              "      <th></th>\n",
              "      <th>name</th>\n",
              "      <th>gf</th>\n",
              "      <th>ga</th>\n",
              "      <th>points</th>\n",
              "    </tr>\n",
              "  </thead>\n",
              "  <tbody>\n",
              "    <tr>\n",
              "      <th>0</th>\n",
              "      <td>Manchester City</td>\n",
              "      <td>106</td>\n",
              "      <td>27</td>\n",
              "      <td>100</td>\n",
              "    </tr>\n",
              "    <tr>\n",
              "      <th>1</th>\n",
              "      <td>Manchester United</td>\n",
              "      <td>68</td>\n",
              "      <td>28</td>\n",
              "      <td>81</td>\n",
              "    </tr>\n",
              "    <tr>\n",
              "      <th>2</th>\n",
              "      <td>Tottenham Hotspur</td>\n",
              "      <td>74</td>\n",
              "      <td>36</td>\n",
              "      <td>77</td>\n",
              "    </tr>\n",
              "    <tr>\n",
              "      <th>3</th>\n",
              "      <td>Liverpool</td>\n",
              "      <td>84</td>\n",
              "      <td>38</td>\n",
              "      <td>75</td>\n",
              "    </tr>\n",
              "    <tr>\n",
              "      <th>4</th>\n",
              "      <td>Chelsea</td>\n",
              "      <td>62</td>\n",
              "      <td>38</td>\n",
              "      <td>70</td>\n",
              "    </tr>\n",
              "  </tbody>\n",
              "</table>\n",
              "</div>\n",
              "      <button class=\"colab-df-convert\" onclick=\"convertToInteractive('df-6a3d4e73-8597-4da5-9610-dfa186bf6544')\"\n",
              "              title=\"Convert this dataframe to an interactive table.\"\n",
              "              style=\"display:none;\">\n",
              "        \n",
              "  <svg xmlns=\"http://www.w3.org/2000/svg\" height=\"24px\"viewBox=\"0 0 24 24\"\n",
              "       width=\"24px\">\n",
              "    <path d=\"M0 0h24v24H0V0z\" fill=\"none\"/>\n",
              "    <path d=\"M18.56 5.44l.94 2.06.94-2.06 2.06-.94-2.06-.94-.94-2.06-.94 2.06-2.06.94zm-11 1L8.5 8.5l.94-2.06 2.06-.94-2.06-.94L8.5 2.5l-.94 2.06-2.06.94zm10 10l.94 2.06.94-2.06 2.06-.94-2.06-.94-.94-2.06-.94 2.06-2.06.94z\"/><path d=\"M17.41 7.96l-1.37-1.37c-.4-.4-.92-.59-1.43-.59-.52 0-1.04.2-1.43.59L10.3 9.45l-7.72 7.72c-.78.78-.78 2.05 0 2.83L4 21.41c.39.39.9.59 1.41.59.51 0 1.02-.2 1.41-.59l7.78-7.78 2.81-2.81c.8-.78.8-2.07 0-2.86zM5.41 20L4 18.59l7.72-7.72 1.47 1.35L5.41 20z\"/>\n",
              "  </svg>\n",
              "      </button>\n",
              "      \n",
              "  <style>\n",
              "    .colab-df-container {\n",
              "      display:flex;\n",
              "      flex-wrap:wrap;\n",
              "      gap: 12px;\n",
              "    }\n",
              "\n",
              "    .colab-df-convert {\n",
              "      background-color: #E8F0FE;\n",
              "      border: none;\n",
              "      border-radius: 50%;\n",
              "      cursor: pointer;\n",
              "      display: none;\n",
              "      fill: #1967D2;\n",
              "      height: 32px;\n",
              "      padding: 0 0 0 0;\n",
              "      width: 32px;\n",
              "    }\n",
              "\n",
              "    .colab-df-convert:hover {\n",
              "      background-color: #E2EBFA;\n",
              "      box-shadow: 0px 1px 2px rgba(60, 64, 67, 0.3), 0px 1px 3px 1px rgba(60, 64, 67, 0.15);\n",
              "      fill: #174EA6;\n",
              "    }\n",
              "\n",
              "    [theme=dark] .colab-df-convert {\n",
              "      background-color: #3B4455;\n",
              "      fill: #D2E3FC;\n",
              "    }\n",
              "\n",
              "    [theme=dark] .colab-df-convert:hover {\n",
              "      background-color: #434B5C;\n",
              "      box-shadow: 0px 1px 3px 1px rgba(0, 0, 0, 0.15);\n",
              "      filter: drop-shadow(0px 1px 2px rgba(0, 0, 0, 0.3));\n",
              "      fill: #FFFFFF;\n",
              "    }\n",
              "  </style>\n",
              "\n",
              "      <script>\n",
              "        const buttonEl =\n",
              "          document.querySelector('#df-6a3d4e73-8597-4da5-9610-dfa186bf6544 button.colab-df-convert');\n",
              "        buttonEl.style.display =\n",
              "          google.colab.kernel.accessAllowed ? 'block' : 'none';\n",
              "\n",
              "        async function convertToInteractive(key) {\n",
              "          const element = document.querySelector('#df-6a3d4e73-8597-4da5-9610-dfa186bf6544');\n",
              "          const dataTable =\n",
              "            await google.colab.kernel.invokeFunction('convertToInteractive',\n",
              "                                                     [key], {});\n",
              "          if (!dataTable) return;\n",
              "\n",
              "          const docLinkHtml = 'Like what you see? Visit the ' +\n",
              "            '<a target=\"_blank\" href=https://colab.research.google.com/notebooks/data_table.ipynb>data table notebook</a>'\n",
              "            + ' to learn more about interactive tables.';\n",
              "          element.innerHTML = '';\n",
              "          dataTable['output_type'] = 'display_data';\n",
              "          await google.colab.output.renderOutput(dataTable, element);\n",
              "          const docLink = document.createElement('div');\n",
              "          docLink.innerHTML = docLinkHtml;\n",
              "          element.appendChild(docLink);\n",
              "        }\n",
              "      </script>\n",
              "    </div>\n",
              "  </div>\n",
              "  "
            ]
          },
          "metadata": {},
          "execution_count": 14
        }
      ]
    },
    {
      "cell_type": "code",
      "source": [
        "p_df.columns = [\"팀명\", \"득점\", \"실점\", \"승점\"]\n",
        "p_df.head()"
      ],
      "metadata": {
        "colab": {
          "base_uri": "https://localhost:8080/",
          "height": 206
        },
        "id": "WeUak9hKqePt",
        "outputId": "f391edf1-3699-4dcc-87ea-28d667b660c0"
      },
      "execution_count": 15,
      "outputs": [
        {
          "output_type": "execute_result",
          "data": {
            "text/plain": [
              "                  팀명   득점  실점   승점\n",
              "0    Manchester City  106  27  100\n",
              "1  Manchester United   68  28   81\n",
              "2  Tottenham Hotspur   74  36   77\n",
              "3          Liverpool   84  38   75\n",
              "4            Chelsea   62  38   70"
            ],
            "text/html": [
              "\n",
              "  <div id=\"df-7b07fc31-3b4d-4b60-abcb-35066baeb109\">\n",
              "    <div class=\"colab-df-container\">\n",
              "      <div>\n",
              "<style scoped>\n",
              "    .dataframe tbody tr th:only-of-type {\n",
              "        vertical-align: middle;\n",
              "    }\n",
              "\n",
              "    .dataframe tbody tr th {\n",
              "        vertical-align: top;\n",
              "    }\n",
              "\n",
              "    .dataframe thead th {\n",
              "        text-align: right;\n",
              "    }\n",
              "</style>\n",
              "<table border=\"1\" class=\"dataframe\">\n",
              "  <thead>\n",
              "    <tr style=\"text-align: right;\">\n",
              "      <th></th>\n",
              "      <th>팀명</th>\n",
              "      <th>득점</th>\n",
              "      <th>실점</th>\n",
              "      <th>승점</th>\n",
              "    </tr>\n",
              "  </thead>\n",
              "  <tbody>\n",
              "    <tr>\n",
              "      <th>0</th>\n",
              "      <td>Manchester City</td>\n",
              "      <td>106</td>\n",
              "      <td>27</td>\n",
              "      <td>100</td>\n",
              "    </tr>\n",
              "    <tr>\n",
              "      <th>1</th>\n",
              "      <td>Manchester United</td>\n",
              "      <td>68</td>\n",
              "      <td>28</td>\n",
              "      <td>81</td>\n",
              "    </tr>\n",
              "    <tr>\n",
              "      <th>2</th>\n",
              "      <td>Tottenham Hotspur</td>\n",
              "      <td>74</td>\n",
              "      <td>36</td>\n",
              "      <td>77</td>\n",
              "    </tr>\n",
              "    <tr>\n",
              "      <th>3</th>\n",
              "      <td>Liverpool</td>\n",
              "      <td>84</td>\n",
              "      <td>38</td>\n",
              "      <td>75</td>\n",
              "    </tr>\n",
              "    <tr>\n",
              "      <th>4</th>\n",
              "      <td>Chelsea</td>\n",
              "      <td>62</td>\n",
              "      <td>38</td>\n",
              "      <td>70</td>\n",
              "    </tr>\n",
              "  </tbody>\n",
              "</table>\n",
              "</div>\n",
              "      <button class=\"colab-df-convert\" onclick=\"convertToInteractive('df-7b07fc31-3b4d-4b60-abcb-35066baeb109')\"\n",
              "              title=\"Convert this dataframe to an interactive table.\"\n",
              "              style=\"display:none;\">\n",
              "        \n",
              "  <svg xmlns=\"http://www.w3.org/2000/svg\" height=\"24px\"viewBox=\"0 0 24 24\"\n",
              "       width=\"24px\">\n",
              "    <path d=\"M0 0h24v24H0V0z\" fill=\"none\"/>\n",
              "    <path d=\"M18.56 5.44l.94 2.06.94-2.06 2.06-.94-2.06-.94-.94-2.06-.94 2.06-2.06.94zm-11 1L8.5 8.5l.94-2.06 2.06-.94-2.06-.94L8.5 2.5l-.94 2.06-2.06.94zm10 10l.94 2.06.94-2.06 2.06-.94-2.06-.94-.94-2.06-.94 2.06-2.06.94z\"/><path d=\"M17.41 7.96l-1.37-1.37c-.4-.4-.92-.59-1.43-.59-.52 0-1.04.2-1.43.59L10.3 9.45l-7.72 7.72c-.78.78-.78 2.05 0 2.83L4 21.41c.39.39.9.59 1.41.59.51 0 1.02-.2 1.41-.59l7.78-7.78 2.81-2.81c.8-.78.8-2.07 0-2.86zM5.41 20L4 18.59l7.72-7.72 1.47 1.35L5.41 20z\"/>\n",
              "  </svg>\n",
              "      </button>\n",
              "      \n",
              "  <style>\n",
              "    .colab-df-container {\n",
              "      display:flex;\n",
              "      flex-wrap:wrap;\n",
              "      gap: 12px;\n",
              "    }\n",
              "\n",
              "    .colab-df-convert {\n",
              "      background-color: #E8F0FE;\n",
              "      border: none;\n",
              "      border-radius: 50%;\n",
              "      cursor: pointer;\n",
              "      display: none;\n",
              "      fill: #1967D2;\n",
              "      height: 32px;\n",
              "      padding: 0 0 0 0;\n",
              "      width: 32px;\n",
              "    }\n",
              "\n",
              "    .colab-df-convert:hover {\n",
              "      background-color: #E2EBFA;\n",
              "      box-shadow: 0px 1px 2px rgba(60, 64, 67, 0.3), 0px 1px 3px 1px rgba(60, 64, 67, 0.15);\n",
              "      fill: #174EA6;\n",
              "    }\n",
              "\n",
              "    [theme=dark] .colab-df-convert {\n",
              "      background-color: #3B4455;\n",
              "      fill: #D2E3FC;\n",
              "    }\n",
              "\n",
              "    [theme=dark] .colab-df-convert:hover {\n",
              "      background-color: #434B5C;\n",
              "      box-shadow: 0px 1px 3px 1px rgba(0, 0, 0, 0.15);\n",
              "      filter: drop-shadow(0px 1px 2px rgba(0, 0, 0, 0.3));\n",
              "      fill: #FFFFFF;\n",
              "    }\n",
              "  </style>\n",
              "\n",
              "      <script>\n",
              "        const buttonEl =\n",
              "          document.querySelector('#df-7b07fc31-3b4d-4b60-abcb-35066baeb109 button.colab-df-convert');\n",
              "        buttonEl.style.display =\n",
              "          google.colab.kernel.accessAllowed ? 'block' : 'none';\n",
              "\n",
              "        async function convertToInteractive(key) {\n",
              "          const element = document.querySelector('#df-7b07fc31-3b4d-4b60-abcb-35066baeb109');\n",
              "          const dataTable =\n",
              "            await google.colab.kernel.invokeFunction('convertToInteractive',\n",
              "                                                     [key], {});\n",
              "          if (!dataTable) return;\n",
              "\n",
              "          const docLinkHtml = 'Like what you see? Visit the ' +\n",
              "            '<a target=\"_blank\" href=https://colab.research.google.com/notebooks/data_table.ipynb>data table notebook</a>'\n",
              "            + ' to learn more about interactive tables.';\n",
              "          element.innerHTML = '';\n",
              "          dataTable['output_type'] = 'display_data';\n",
              "          await google.colab.output.renderOutput(dataTable, element);\n",
              "          const docLink = document.createElement('div');\n",
              "          docLink.innerHTML = docLinkHtml;\n",
              "          element.appendChild(docLink);\n",
              "        }\n",
              "      </script>\n",
              "    </div>\n",
              "  </div>\n",
              "  "
            ]
          },
          "metadata": {},
          "execution_count": 15
        }
      ]
    },
    {
      "cell_type": "code",
      "source": [
        "gf_corrcoef= np.corrcoef(p_df[\"승점\"], p_df[\"득점\"])[0, 1]\n",
        "gf_corrcoef"
      ],
      "metadata": {
        "colab": {
          "base_uri": "https://localhost:8080/"
        },
        "id": "Y7ghYEjSqky0",
        "outputId": "9a701ff2-248e-4369-b60e-2e213d775dee"
      },
      "execution_count": 16,
      "outputs": [
        {
          "output_type": "execute_result",
          "data": {
            "text/plain": [
              "0.9318404636463515"
            ]
          },
          "metadata": {},
          "execution_count": 16
        }
      ]
    },
    {
      "cell_type": "code",
      "source": [
        "gf_corrcoef= np.corrcoef(p_df[\"승점\"], p_df[\"실점\"])[0, 1]\n",
        "gf_corrcoef"
      ],
      "metadata": {
        "colab": {
          "base_uri": "https://localhost:8080/"
        },
        "id": "rvhgfrAzqnSi",
        "outputId": "19c624a0-bcc5-4f6e-faac-2a0108ff89c6"
      },
      "execution_count": 17,
      "outputs": [
        {
          "output_type": "execute_result",
          "data": {
            "text/plain": [
              "-0.8705940043262675"
            ]
          },
          "metadata": {},
          "execution_count": 17
        }
      ]
    },
    {
      "cell_type": "markdown",
      "source": [
        "득점을 하는 것이 실점을 적게 하는 것보다 승점에 영향을 많이 미친다."
      ],
      "metadata": {
        "id": "PjubnFtgqo2y"
      }
    },
    {
      "cell_type": "code",
      "source": [
        ""
      ],
      "metadata": {
        "id": "-fZxNDO2qsvb"
      },
      "execution_count": null,
      "outputs": []
    }
  ]
}